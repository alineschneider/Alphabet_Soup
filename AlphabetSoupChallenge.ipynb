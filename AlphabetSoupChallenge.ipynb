{
 "cells": [
  {
   "cell_type": "code",
   "execution_count": 1,
   "metadata": {},
   "outputs": [
    {
     "data": {
      "text/html": [
       "<div>\n",
       "<style scoped>\n",
       "    .dataframe tbody tr th:only-of-type {\n",
       "        vertical-align: middle;\n",
       "    }\n",
       "\n",
       "    .dataframe tbody tr th {\n",
       "        vertical-align: top;\n",
       "    }\n",
       "\n",
       "    .dataframe thead th {\n",
       "        text-align: right;\n",
       "    }\n",
       "</style>\n",
       "<table border=\"1\" class=\"dataframe\">\n",
       "  <thead>\n",
       "    <tr style=\"text-align: right;\">\n",
       "      <th></th>\n",
       "      <th>EIN</th>\n",
       "      <th>NAME</th>\n",
       "      <th>APPLICATION_TYPE</th>\n",
       "      <th>AFFILIATION</th>\n",
       "      <th>CLASSIFICATION</th>\n",
       "      <th>USE_CASE</th>\n",
       "      <th>ORGANIZATION</th>\n",
       "      <th>STATUS</th>\n",
       "      <th>INCOME_AMT</th>\n",
       "      <th>SPECIAL_CONSIDERATIONS</th>\n",
       "      <th>ASK_AMT</th>\n",
       "      <th>IS_SUCCESSFUL</th>\n",
       "    </tr>\n",
       "  </thead>\n",
       "  <tbody>\n",
       "    <tr>\n",
       "      <th>0</th>\n",
       "      <td>10520599</td>\n",
       "      <td>BLUE KNIGHTS MOTORCYCLE CLUB</td>\n",
       "      <td>T10</td>\n",
       "      <td>Independent</td>\n",
       "      <td>C1000</td>\n",
       "      <td>ProductDev</td>\n",
       "      <td>Association</td>\n",
       "      <td>1</td>\n",
       "      <td>0</td>\n",
       "      <td>N</td>\n",
       "      <td>5000</td>\n",
       "      <td>1</td>\n",
       "    </tr>\n",
       "    <tr>\n",
       "      <th>1</th>\n",
       "      <td>10531628</td>\n",
       "      <td>AMERICAN CHESAPEAKE CLUB CHARITABLE TR</td>\n",
       "      <td>T3</td>\n",
       "      <td>Independent</td>\n",
       "      <td>C2000</td>\n",
       "      <td>Preservation</td>\n",
       "      <td>Co-operative</td>\n",
       "      <td>1</td>\n",
       "      <td>1-9999</td>\n",
       "      <td>N</td>\n",
       "      <td>108590</td>\n",
       "      <td>1</td>\n",
       "    </tr>\n",
       "    <tr>\n",
       "      <th>2</th>\n",
       "      <td>10547893</td>\n",
       "      <td>ST CLOUD PROFESSIONAL FIREFIGHTERS</td>\n",
       "      <td>T5</td>\n",
       "      <td>CompanySponsored</td>\n",
       "      <td>C3000</td>\n",
       "      <td>ProductDev</td>\n",
       "      <td>Association</td>\n",
       "      <td>1</td>\n",
       "      <td>0</td>\n",
       "      <td>N</td>\n",
       "      <td>5000</td>\n",
       "      <td>0</td>\n",
       "    </tr>\n",
       "    <tr>\n",
       "      <th>3</th>\n",
       "      <td>10553066</td>\n",
       "      <td>SOUTHSIDE ATHLETIC ASSOCIATION</td>\n",
       "      <td>T3</td>\n",
       "      <td>CompanySponsored</td>\n",
       "      <td>C2000</td>\n",
       "      <td>Preservation</td>\n",
       "      <td>Trust</td>\n",
       "      <td>1</td>\n",
       "      <td>10000-24999</td>\n",
       "      <td>N</td>\n",
       "      <td>6692</td>\n",
       "      <td>1</td>\n",
       "    </tr>\n",
       "    <tr>\n",
       "      <th>4</th>\n",
       "      <td>10556103</td>\n",
       "      <td>GENETIC RESEARCH INSTITUTE OF THE DESERT</td>\n",
       "      <td>T3</td>\n",
       "      <td>Independent</td>\n",
       "      <td>C1000</td>\n",
       "      <td>Heathcare</td>\n",
       "      <td>Trust</td>\n",
       "      <td>1</td>\n",
       "      <td>100000-499999</td>\n",
       "      <td>N</td>\n",
       "      <td>142590</td>\n",
       "      <td>1</td>\n",
       "    </tr>\n",
       "  </tbody>\n",
       "</table>\n",
       "</div>"
      ],
      "text/plain": [
       "        EIN                                      NAME APPLICATION_TYPE  \\\n",
       "0  10520599              BLUE KNIGHTS MOTORCYCLE CLUB              T10   \n",
       "1  10531628    AMERICAN CHESAPEAKE CLUB CHARITABLE TR               T3   \n",
       "2  10547893        ST CLOUD PROFESSIONAL FIREFIGHTERS               T5   \n",
       "3  10553066            SOUTHSIDE ATHLETIC ASSOCIATION               T3   \n",
       "4  10556103  GENETIC RESEARCH INSTITUTE OF THE DESERT               T3   \n",
       "\n",
       "        AFFILIATION CLASSIFICATION      USE_CASE  ORGANIZATION  STATUS  \\\n",
       "0       Independent          C1000    ProductDev   Association       1   \n",
       "1       Independent          C2000  Preservation  Co-operative       1   \n",
       "2  CompanySponsored          C3000    ProductDev   Association       1   \n",
       "3  CompanySponsored          C2000  Preservation         Trust       1   \n",
       "4       Independent          C1000     Heathcare         Trust       1   \n",
       "\n",
       "      INCOME_AMT SPECIAL_CONSIDERATIONS  ASK_AMT  IS_SUCCESSFUL  \n",
       "0              0                      N     5000              1  \n",
       "1         1-9999                      N   108590              1  \n",
       "2              0                      N     5000              0  \n",
       "3    10000-24999                      N     6692              1  \n",
       "4  100000-499999                      N   142590              1  "
      ]
     },
     "execution_count": 1,
     "metadata": {},
     "output_type": "execute_result"
    }
   ],
   "source": [
    "# Import our dependencies\n",
    "from sklearn.model_selection import train_test_split\n",
    "from sklearn.preprocessing import StandardScaler,OneHotEncoder\n",
    "import pandas as pd\n",
    "import tensorflow as tf\n",
    "\n",
    "# Import our input dataset\n",
    "charity_df = pd.read_csv('Resources/charity_data.csv')\n",
    "charity_df.head()"
   ]
  },
  {
   "cell_type": "markdown",
   "metadata": {},
   "source": [
    "## Preprocessing\n",
    "### Combine rare categorical values via bucketing"
   ]
  },
  {
   "cell_type": "code",
   "execution_count": 2,
   "metadata": {},
   "outputs": [
    {
     "data": {
      "text/plain": [
       "EIN                        int64\n",
       "NAME                      object\n",
       "APPLICATION_TYPE          object\n",
       "AFFILIATION               object\n",
       "CLASSIFICATION            object\n",
       "USE_CASE                  object\n",
       "ORGANIZATION              object\n",
       "STATUS                     int64\n",
       "INCOME_AMT                object\n",
       "SPECIAL_CONSIDERATIONS    object\n",
       "ASK_AMT                    int64\n",
       "IS_SUCCESSFUL              int64\n",
       "dtype: object"
      ]
     },
     "execution_count": 2,
     "metadata": {},
     "output_type": "execute_result"
    }
   ],
   "source": [
    "# Check data types in DataFrame\n",
    "charity_df.dtypes"
   ]
  },
  {
   "cell_type": "code",
   "execution_count": 3,
   "metadata": {},
   "outputs": [
    {
     "data": {
      "text/plain": [
       "NAME                      19568\n",
       "APPLICATION_TYPE             17\n",
       "AFFILIATION                   6\n",
       "CLASSIFICATION               71\n",
       "USE_CASE                      5\n",
       "ORGANIZATION                  4\n",
       "INCOME_AMT                    9\n",
       "SPECIAL_CONSIDERATIONS        2\n",
       "dtype: int64"
      ]
     },
     "execution_count": 3,
     "metadata": {},
     "output_type": "execute_result"
    }
   ],
   "source": [
    "# Generate our categorical variable list\n",
    "category_columns = charity_df.dtypes[charity_df.dtypes == \"object\"].index.tolist()\n",
    "\n",
    "# Check the number of unique values in each column\n",
    "charity_df[category_columns].nunique()"
   ]
  },
  {
   "cell_type": "code",
   "execution_count": 4,
   "metadata": {},
   "outputs": [
    {
     "data": {
      "text/plain": [
       "471361061    1\n",
       "716145914    1\n",
       "470850777    1\n",
       "742622426    1\n",
       "436124893    1\n",
       "            ..\n",
       "205040320    1\n",
       "461149136    1\n",
       "474460867    1\n",
       "204833477    1\n",
       "352260098    1\n",
       "Name: EIN, Length: 34299, dtype: int64"
      ]
     },
     "execution_count": 4,
     "metadata": {},
     "output_type": "execute_result"
    }
   ],
   "source": [
    "# EIN column functions like an index, since each number appears only once\n",
    "charity_df.EIN.value_counts()"
   ]
  },
  {
   "cell_type": "code",
   "execution_count": 5,
   "metadata": {},
   "outputs": [],
   "source": [
    "# Drop 'EIN' column\n",
    "charity_df = charity_df.drop('EIN', axis=1)"
   ]
  },
  {
   "cell_type": "code",
   "execution_count": 6,
   "metadata": {},
   "outputs": [
    {
     "data": {
      "text/plain": [
       "VICTORY NEW TESTAMENT FELLOWSHIP INTERNATIONAL          9\n",
       "RECREATION CENTERS OF SUN CITY INC                      9\n",
       "PTA FLORIDA CONGRESS                                    9\n",
       "UNITED OSTOMY ASSOCIATIONS OF AMERICA INC               9\n",
       "OREGON EDUCATION ASSOCIATION                            9\n",
       "                                                       ..\n",
       "HEALING THE HEROES FOUNDATION                           1\n",
       "ROUGHNECK FOUNDATION                                    1\n",
       "INSIGHT SEMINARS INC                                    1\n",
       "EDUCATIONAL SERVICES HAWAII FOUNDATION                  1\n",
       "SEATTLE SINGLE PARENT ADVOCACY COUNSELING ENRICHMENT    1\n",
       "Name: NAME, Length: 19346, dtype: int64"
      ]
     },
     "execution_count": 6,
     "metadata": {},
     "output_type": "execute_result"
    }
   ],
   "source": [
    "# Print out NAME value counts to assess the need for binning\n",
    "names = charity_df.NAME.value_counts()\n",
    "names[names < 10]"
   ]
  },
  {
   "cell_type": "code",
   "execution_count": 7,
   "metadata": {},
   "outputs": [
    {
     "data": {
      "text/plain": [
       "Other                                                21022\n",
       "PARENT BOOSTER USA INC                                1260\n",
       "TOPS CLUB INC                                          765\n",
       "UNITED STATES BOWLING CONGRESS INC                     700\n",
       "WASHINGTON STATE UNIVERSITY                            492\n",
       "                                                     ...  \n",
       "FREE & ACCEPTED MASONS OF WASHINGTON                    10\n",
       "ASIAN PACIFIC AMERICAN INTERNAL REVENUE EMPLOYEES       10\n",
       "CASCADE 4-H FOUNDATION                                  10\n",
       "UNION OF CALIFORNIA STATE WORKERS                       10\n",
       "STEVES CLUB NATIONAL PROGRAM                            10\n",
       "Name: NAME, Length: 223, dtype: int64"
      ]
     },
     "execution_count": 7,
     "metadata": {},
     "output_type": "execute_result"
    }
   ],
   "source": [
    "# Determine which values to replace: those which appear less than 10 times\n",
    "replace_names = list(names[names < 10].index)\n",
    "\n",
    "# Replace in DataFrame\n",
    "for name in replace_names:\n",
    "    charity_df.NAME = charity_df.NAME.replace(name,\"Other\")\n",
    "\n",
    "# Check to make sure binning was successful\n",
    "charity_df.NAME.value_counts()"
   ]
  },
  {
   "cell_type": "code",
   "execution_count": 8,
   "metadata": {},
   "outputs": [
    {
     "data": {
      "text/plain": [
       "T3     27037\n",
       "T4      1542\n",
       "T6      1216\n",
       "T5      1173\n",
       "T19     1065\n",
       "T8       737\n",
       "T7       725\n",
       "T10      528\n",
       "T9       156\n",
       "T13       66\n",
       "T12       27\n",
       "T2        16\n",
       "T14        3\n",
       "T25        3\n",
       "T29        2\n",
       "T15        2\n",
       "T17        1\n",
       "Name: APPLICATION_TYPE, dtype: int64"
      ]
     },
     "execution_count": 8,
     "metadata": {},
     "output_type": "execute_result"
    }
   ],
   "source": [
    "# Print out APPLICATION_TYPE value counts to assess the need for binning\n",
    "apptype_counts = charity_df.APPLICATION_TYPE.value_counts()\n",
    "apptype_counts"
   ]
  },
  {
   "cell_type": "code",
   "execution_count": 9,
   "metadata": {},
   "outputs": [
    {
     "data": {
      "text/plain": [
       "<matplotlib.axes._subplots.AxesSubplot at 0x23544891388>"
      ]
     },
     "execution_count": 9,
     "metadata": {},
     "output_type": "execute_result"
    },
    {
     "data": {
      "image/png": "[encoded data removed]",
      "text/plain": [
       "<Figure size 432x288 with 1 Axes>"
      ]
     },
     "metadata": {
      "needs_background": "light"
     },
     "output_type": "display_data"
    }
   ],
   "source": [
    "# Visualize the value counts\n",
    "apptype_counts.plot.density()"
   ]
  },
  {
   "cell_type": "code",
   "execution_count": 10,
   "metadata": {},
   "outputs": [
    {
     "data": {
      "text/plain": [
       "T3       27037\n",
       "T4        1542\n",
       "T6        1216\n",
       "T5        1173\n",
       "T19       1065\n",
       "T8         737\n",
       "T7         725\n",
       "T10        528\n",
       "T9         156\n",
       "Other      120\n",
       "Name: APPLICATION_TYPE, dtype: int64"
      ]
     },
     "execution_count": 10,
     "metadata": {},
     "output_type": "execute_result"
    }
   ],
   "source": [
    "# Determine which values to replace: those which appear less than 100 times\n",
    "replace_apptype = list(apptype_counts[apptype_counts < 100].index)\n",
    "\n",
    "# Replace in DataFrame\n",
    "for apptype in replace_apptype:\n",
    "    charity_df.APPLICATION_TYPE = charity_df.APPLICATION_TYPE.replace(apptype,\"Other\")\n",
    "\n",
    "# Check to make sure binning was successful\n",
    "charity_df.APPLICATION_TYPE.value_counts()"
   ]
  },
  {
   "cell_type": "code",
   "execution_count": 11,
   "metadata": {},
   "outputs": [
    {
     "data": {
      "text/plain": [
       "Independent         18480\n",
       "CompanySponsored    15705\n",
       "Family/Parent          64\n",
       "National               33\n",
       "Regional               13\n",
       "Other                   4\n",
       "Name: AFFILIATION, dtype: int64"
      ]
     },
     "execution_count": 11,
     "metadata": {},
     "output_type": "execute_result"
    }
   ],
   "source": [
    "# Check AFFILIATION column values\n",
    "charity_df.AFFILIATION.value_counts()"
   ]
  },
  {
   "cell_type": "code",
   "execution_count": 12,
   "metadata": {},
   "outputs": [
    {
     "data": {
      "text/plain": [
       "C1000    17326\n",
       "C2000     6074\n",
       "C1200     4837\n",
       "C3000     1918\n",
       "C2100     1883\n",
       "         ...  \n",
       "C2150        1\n",
       "C1283        1\n",
       "C1728        1\n",
       "C2561        1\n",
       "C1236        1\n",
       "Name: CLASSIFICATION, Length: 71, dtype: int64"
      ]
     },
     "execution_count": 12,
     "metadata": {},
     "output_type": "execute_result"
    }
   ],
   "source": [
    "# Check CLASSIFICATION column values\n",
    "charity_df.CLASSIFICATION.value_counts()"
   ]
  },
  {
   "cell_type": "code",
   "execution_count": 13,
   "metadata": {},
   "outputs": [
    {
     "data": {
      "text/plain": [
       "Preservation     28095\n",
       "ProductDev        5671\n",
       "CommunityServ      384\n",
       "Heathcare          146\n",
       "Other                3\n",
       "Name: USE_CASE, dtype: int64"
      ]
     },
     "execution_count": 13,
     "metadata": {},
     "output_type": "execute_result"
    }
   ],
   "source": [
    "# Check USE_CASE column values\n",
    "charity_df.USE_CASE.value_counts()"
   ]
  },
  {
   "cell_type": "code",
   "execution_count": 14,
   "metadata": {},
   "outputs": [
    {
     "data": {
      "text/plain": [
       "Trust           23515\n",
       "Association     10255\n",
       "Co-operative      486\n",
       "Corporation        43\n",
       "Name: ORGANIZATION, dtype: int64"
      ]
     },
     "execution_count": 14,
     "metadata": {},
     "output_type": "execute_result"
    }
   ],
   "source": [
    "# Check ORGANIZATION column values\n",
    "charity_df.ORGANIZATION.value_counts()"
   ]
  },
  {
   "cell_type": "code",
   "execution_count": 15,
   "metadata": {},
   "outputs": [
    {
     "data": {
      "text/plain": [
       "N    34272\n",
       "Y       27\n",
       "Name: SPECIAL_CONSIDERATIONS, dtype: int64"
      ]
     },
     "execution_count": 15,
     "metadata": {},
     "output_type": "execute_result"
    }
   ],
   "source": [
    "# Check SPECIAL_CONSIDERATIONS column values\n",
    "charity_df.SPECIAL_CONSIDERATIONS.value_counts()"
   ]
  },
  {
   "cell_type": "code",
   "execution_count": 16,
   "metadata": {},
   "outputs": [
    {
     "data": {
      "text/plain": [
       "0                24388\n",
       "25000-99999       3747\n",
       "100000-499999     3374\n",
       "1M-5M              955\n",
       "1-9999             728\n",
       "10000-24999        543\n",
       "10M-50M            240\n",
       "5M-10M             185\n",
       "50M+               139\n",
       "Name: INCOME_AMT, dtype: int64"
      ]
     },
     "execution_count": 16,
     "metadata": {},
     "output_type": "execute_result"
    }
   ],
   "source": [
    "# Check INCOME_AMT column values\n",
    "charity_df.INCOME_AMT.value_counts()"
   ]
  },
  {
   "cell_type": "code",
   "execution_count": 17,
   "metadata": {},
   "outputs": [
    {
     "data": {
      "text/plain": [
       "NAME                      0\n",
       "APPLICATION_TYPE          0\n",
       "AFFILIATION               0\n",
       "CLASSIFICATION            0\n",
       "USE_CASE                  0\n",
       "ORGANIZATION              0\n",
       "STATUS                    0\n",
       "INCOME_AMT                0\n",
       "SPECIAL_CONSIDERATIONS    0\n",
       "ASK_AMT                   0\n",
       "IS_SUCCESSFUL             0\n",
       "dtype: int64"
      ]
     },
     "execution_count": 17,
     "metadata": {},
     "output_type": "execute_result"
    }
   ],
   "source": [
    "# Check for null values\n",
    "charity_df.isnull().sum()"
   ]
  },
  {
   "cell_type": "markdown",
   "metadata": {},
   "source": [
    "## Encode categorical variables"
   ]
  },
  {
   "cell_type": "code",
   "execution_count": 18,
   "metadata": {},
   "outputs": [
    {
     "data": {
      "text/html": [
       "<div>\n",
       "<style scoped>\n",
       "    .dataframe tbody tr th:only-of-type {\n",
       "        vertical-align: middle;\n",
       "    }\n",
       "\n",
       "    .dataframe tbody tr th {\n",
       "        vertical-align: top;\n",
       "    }\n",
       "\n",
       "    .dataframe thead th {\n",
       "        text-align: right;\n",
       "    }\n",
       "</style>\n",
       "<table border=\"1\" class=\"dataframe\">\n",
       "  <thead>\n",
       "    <tr style=\"text-align: right;\">\n",
       "      <th></th>\n",
       "      <th>STATUS</th>\n",
       "      <th>ASK_AMT</th>\n",
       "      <th>IS_SUCCESSFUL</th>\n",
       "      <th>NAME_ACE MENTOR PROGRAM OF AMERICA INC</th>\n",
       "      <th>NAME_AIR FORCE ASSOCIATION</th>\n",
       "      <th>NAME_ALABAMA FEDERATION OF WOMENS CLUBS</th>\n",
       "      <th>NAME_ALABAMA TREASURE FOREST ASSOCIATION</th>\n",
       "      <th>NAME_ALPHA PHI SIGMA</th>\n",
       "      <th>NAME_ALPHA PHI SIGMA INC</th>\n",
       "      <th>NAME_ALTRUSA INTERNATIONAL FOUNDATION INC</th>\n",
       "      <th>...</th>\n",
       "      <th>INCOME_AMT_1-9999</th>\n",
       "      <th>INCOME_AMT_10000-24999</th>\n",
       "      <th>INCOME_AMT_100000-499999</th>\n",
       "      <th>INCOME_AMT_10M-50M</th>\n",
       "      <th>INCOME_AMT_1M-5M</th>\n",
       "      <th>INCOME_AMT_25000-99999</th>\n",
       "      <th>INCOME_AMT_50M+</th>\n",
       "      <th>INCOME_AMT_5M-10M</th>\n",
       "      <th>SPECIAL_CONSIDERATIONS_N</th>\n",
       "      <th>SPECIAL_CONSIDERATIONS_Y</th>\n",
       "    </tr>\n",
       "  </thead>\n",
       "  <tbody>\n",
       "    <tr>\n",
       "      <th>0</th>\n",
       "      <td>1</td>\n",
       "      <td>5000</td>\n",
       "      <td>1</td>\n",
       "      <td>0</td>\n",
       "      <td>0</td>\n",
       "      <td>0</td>\n",
       "      <td>0</td>\n",
       "      <td>0</td>\n",
       "      <td>0</td>\n",
       "      <td>0</td>\n",
       "      <td>...</td>\n",
       "      <td>0</td>\n",
       "      <td>0</td>\n",
       "      <td>0</td>\n",
       "      <td>0</td>\n",
       "      <td>0</td>\n",
       "      <td>0</td>\n",
       "      <td>0</td>\n",
       "      <td>0</td>\n",
       "      <td>1</td>\n",
       "      <td>0</td>\n",
       "    </tr>\n",
       "    <tr>\n",
       "      <th>1</th>\n",
       "      <td>1</td>\n",
       "      <td>108590</td>\n",
       "      <td>1</td>\n",
       "      <td>0</td>\n",
       "      <td>0</td>\n",
       "      <td>0</td>\n",
       "      <td>0</td>\n",
       "      <td>0</td>\n",
       "      <td>0</td>\n",
       "      <td>0</td>\n",
       "      <td>...</td>\n",
       "      <td>1</td>\n",
       "      <td>0</td>\n",
       "      <td>0</td>\n",
       "      <td>0</td>\n",
       "      <td>0</td>\n",
       "      <td>0</td>\n",
       "      <td>0</td>\n",
       "      <td>0</td>\n",
       "      <td>1</td>\n",
       "      <td>0</td>\n",
       "    </tr>\n",
       "    <tr>\n",
       "      <th>2</th>\n",
       "      <td>1</td>\n",
       "      <td>5000</td>\n",
       "      <td>0</td>\n",
       "      <td>0</td>\n",
       "      <td>0</td>\n",
       "      <td>0</td>\n",
       "      <td>0</td>\n",
       "      <td>0</td>\n",
       "      <td>0</td>\n",
       "      <td>0</td>\n",
       "      <td>...</td>\n",
       "      <td>0</td>\n",
       "      <td>0</td>\n",
       "      <td>0</td>\n",
       "      <td>0</td>\n",
       "      <td>0</td>\n",
       "      <td>0</td>\n",
       "      <td>0</td>\n",
       "      <td>0</td>\n",
       "      <td>1</td>\n",
       "      <td>0</td>\n",
       "    </tr>\n",
       "    <tr>\n",
       "      <th>3</th>\n",
       "      <td>1</td>\n",
       "      <td>6692</td>\n",
       "      <td>1</td>\n",
       "      <td>0</td>\n",
       "      <td>0</td>\n",
       "      <td>0</td>\n",
       "      <td>0</td>\n",
       "      <td>0</td>\n",
       "      <td>0</td>\n",
       "      <td>0</td>\n",
       "      <td>...</td>\n",
       "      <td>0</td>\n",
       "      <td>1</td>\n",
       "      <td>0</td>\n",
       "      <td>0</td>\n",
       "      <td>0</td>\n",
       "      <td>0</td>\n",
       "      <td>0</td>\n",
       "      <td>0</td>\n",
       "      <td>1</td>\n",
       "      <td>0</td>\n",
       "    </tr>\n",
       "    <tr>\n",
       "      <th>4</th>\n",
       "      <td>1</td>\n",
       "      <td>142590</td>\n",
       "      <td>1</td>\n",
       "      <td>0</td>\n",
       "      <td>0</td>\n",
       "      <td>0</td>\n",
       "      <td>0</td>\n",
       "      <td>0</td>\n",
       "      <td>0</td>\n",
       "      <td>0</td>\n",
       "      <td>...</td>\n",
       "      <td>0</td>\n",
       "      <td>0</td>\n",
       "      <td>1</td>\n",
       "      <td>0</td>\n",
       "      <td>0</td>\n",
       "      <td>0</td>\n",
       "      <td>0</td>\n",
       "      <td>0</td>\n",
       "      <td>1</td>\n",
       "      <td>0</td>\n",
       "    </tr>\n",
       "  </tbody>\n",
       "</table>\n",
       "<p>5 rows × 333 columns</p>\n",
       "</div>"
      ],
      "text/plain": [
       "   STATUS  ASK_AMT  IS_SUCCESSFUL  NAME_ACE MENTOR PROGRAM OF AMERICA INC  \\\n",
       "0       1     5000              1                                       0   \n",
       "1       1   108590              1                                       0   \n",
       "2       1     5000              0                                       0   \n",
       "3       1     6692              1                                       0   \n",
       "4       1   142590              1                                       0   \n",
       "\n",
       "   NAME_AIR FORCE ASSOCIATION  NAME_ALABAMA FEDERATION OF WOMENS CLUBS  \\\n",
       "0                           0                                        0   \n",
       "1                           0                                        0   \n",
       "2                           0                                        0   \n",
       "3                           0                                        0   \n",
       "4                           0                                        0   \n",
       "\n",
       "   NAME_ALABAMA TREASURE FOREST ASSOCIATION  NAME_ALPHA PHI SIGMA  \\\n",
       "0                                         0                     0   \n",
       "1                                         0                     0   \n",
       "2                                         0                     0   \n",
       "3                                         0                     0   \n",
       "4                                         0                     0   \n",
       "\n",
       "   NAME_ALPHA PHI SIGMA INC  NAME_ALTRUSA INTERNATIONAL FOUNDATION INC  ...  \\\n",
       "0                         0                                          0  ...   \n",
       "1                         0                                          0  ...   \n",
       "2                         0                                          0  ...   \n",
       "3                         0                                          0  ...   \n",
       "4                         0                                          0  ...   \n",
       "\n",
       "   INCOME_AMT_1-9999  INCOME_AMT_10000-24999  INCOME_AMT_100000-499999  \\\n",
       "0                  0                       0                         0   \n",
       "1                  1                       0                         0   \n",
       "2                  0                       0                         0   \n",
       "3                  0                       1                         0   \n",
       "4                  0                       0                         1   \n",
       "\n",
       "   INCOME_AMT_10M-50M  INCOME_AMT_1M-5M  INCOME_AMT_25000-99999  \\\n",
       "0                   0                 0                       0   \n",
       "1                   0                 0                       0   \n",
       "2                   0                 0                       0   \n",
       "3                   0                 0                       0   \n",
       "4                   0                 0                       0   \n",
       "\n",
       "   INCOME_AMT_50M+  INCOME_AMT_5M-10M  SPECIAL_CONSIDERATIONS_N  \\\n",
       "0                0                  0                         1   \n",
       "1                0                  0                         1   \n",
       "2                0                  0                         1   \n",
       "3                0                  0                         1   \n",
       "4                0                  0                         1   \n",
       "\n",
       "   SPECIAL_CONSIDERATIONS_Y  \n",
       "0                         0  \n",
       "1                         0  \n",
       "2                         0  \n",
       "3                         0  \n",
       "4                         0  \n",
       "\n",
       "[5 rows x 333 columns]"
      ]
     },
     "execution_count": 18,
     "metadata": {},
     "output_type": "execute_result"
    }
   ],
   "source": [
    "# Create dummy variables for the categorical features using get_dummies\n",
    "category_columns = charity_df.dtypes[charity_df.dtypes == \"object\"].index.tolist()\n",
    "encoded_df = pd.get_dummies(charity_df, columns=category_columns)\n",
    "encoded_df.head()"
   ]
  },
  {
   "cell_type": "markdown",
   "metadata": {},
   "source": [
    "## Split the data and standardize numerical variables"
   ]
  },
  {
   "cell_type": "code",
   "execution_count": 19,
   "metadata": {},
   "outputs": [],
   "source": [
    "# Split our preprocessed data into our features and target arrays\n",
    "y = encoded_df[\"IS_SUCCESSFUL\"].values\n",
    "X = encoded_df.drop(\"IS_SUCCESSFUL\", axis=1).values\n",
    "\n",
    "# Split the preprocessed data into a training and testing dataset\n",
    "X_train, X_test, y_train, y_test = train_test_split(X, y, random_state=78)"
   ]
  },
  {
   "cell_type": "code",
   "execution_count": 20,
   "metadata": {},
   "outputs": [],
   "source": [
    "# Create a StandardScaler instance\n",
    "scaler = StandardScaler()\n",
    "\n",
    "# Fit the StandardScaler\n",
    "X_scaler = scaler.fit(X_train)\n",
    "\n",
    "# Scale the data\n",
    "X_train_scaled = X_scaler.transform(X_train)\n",
    "X_test_scaled = X_scaler.transform(X_test)"
   ]
  },
  {
   "cell_type": "markdown",
   "metadata": {},
   "source": [
    "## Create binary classification model"
   ]
  },
  {
   "cell_type": "code",
   "execution_count": 21,
   "metadata": {},
   "outputs": [
    {
     "data": {
      "text/plain": [
       "332"
      ]
     },
     "execution_count": 21,
     "metadata": {},
     "output_type": "execute_result"
    }
   ],
   "source": [
    "len(X_train_scaled[0])"
   ]
  },
  {
   "cell_type": "code",
   "execution_count": 22,
   "metadata": {},
   "outputs": [
    {
     "name": "stdout",
     "output_type": "stream",
     "text": [
      "WARNING:tensorflow:From C:\\Users\\aline\\Anaconda3\\envs\\mlenv\\lib\\site-packages\\tensorflow\\python\\ops\\init_ops.py:1251: calling VarianceScaling.__init__ (from tensorflow.python.ops.init_ops) with dtype is deprecated and will be removed in a future version.\n",
      "Instructions for updating:\n",
      "Call initializer instance with the dtype argument instead of passing it to the constructor\n",
      "Model: \"sequential\"\n",
      "_________________________________________________________________\n",
      "Layer (type)                 Output Shape              Param #   \n",
      "=================================================================\n",
      "dense (Dense)                (None, 664)               221112    \n",
      "_________________________________________________________________\n",
      "dense_1 (Dense)              (None, 1)                 665       \n",
      "=================================================================\n",
      "Total params: 221,777\n",
      "Trainable params: 221,777\n",
      "Non-trainable params: 0\n",
      "_________________________________________________________________\n"
     ]
    }
   ],
   "source": [
    "# Create a neural network model with keras\n",
    "nn = tf.keras.models.Sequential()\n",
    "\n",
    "# Add hidden layer with twice as many neurons as there are inputs\n",
    "number_input_features = len(X_train_scaled[0])\n",
    "hidden_nodes_layer1 =  664\n",
    "nn.add(\n",
    "    tf.keras.layers.Dense(units=hidden_nodes_layer1, input_dim=number_input_features, activation=\"sigmoid\")\n",
    ")\n",
    "\n",
    "# add an output layer\n",
    "nn.add(tf.keras.layers.Dense(units=1, activation=\"sigmoid\"))\n",
    "\n",
    "# print a summary of the model\n",
    "nn.summary()"
   ]
  },
  {
   "cell_type": "code",
   "execution_count": 23,
   "metadata": {},
   "outputs": [
    {
     "name": "stdout",
     "output_type": "stream",
     "text": [
      "WARNING:tensorflow:From C:\\Users\\aline\\Anaconda3\\envs\\mlenv\\lib\\site-packages\\tensorflow\\python\\ops\\nn_impl.py:180: add_dispatch_support.<locals>.wrapper (from tensorflow.python.ops.array_ops) is deprecated and will be removed in a future version.\n",
      "Instructions for updating:\n",
      "Use tf.where in 2.0, which has the same broadcast rule as np.where\n"
     ]
    }
   ],
   "source": [
    "# compile the model using the \"adam\" optimizer and \"mean_squared_error\" loss function\n",
    "nn.compile(loss=\"binary_crossentropy\", optimizer=\"adam\", metrics=[\"accuracy\"])"
   ]
  },
  {
   "cell_type": "code",
   "execution_count": 24,
   "metadata": {},
   "outputs": [
    {
     "name": "stdout",
     "output_type": "stream",
     "text": [
      "Epoch 1/100\n",
      "25724/25724 [==============================] - 3s 134us/sample - loss: 0.4749 - acc: 0.7685\n",
      "Epoch 2/100\n",
      "25724/25724 [==============================] - 3s 120us/sample - loss: 0.4544 - acc: 0.7770\n",
      "Epoch 3/100\n",
      "25724/25724 [==============================] - 3s 120us/sample - loss: 0.4488 - acc: 0.7792\n",
      "Epoch 4/100\n",
      "25724/25724 [==============================] - 3s 121us/sample - loss: 0.4472 - acc: 0.7813\n",
      "Epoch 5/100\n",
      "25724/25724 [==============================] - 3s 119us/sample - loss: 0.4463 - acc: 0.7812\n",
      "Epoch 6/100\n",
      "25724/25724 [==============================] - 3s 121us/sample - loss: 0.4453 - acc: 0.7806\n",
      "Epoch 7/100\n",
      "25724/25724 [==============================] - 3s 119us/sample - loss: 0.4444 - acc: 0.7814\n",
      "Epoch 8/100\n",
      "25724/25724 [==============================] - 3s 119us/sample - loss: 0.4432 - acc: 0.7818\n",
      "Epoch 9/100\n",
      "25724/25724 [==============================] - 3s 120us/sample - loss: 0.4415 - acc: 0.7834\n",
      "Epoch 10/100\n",
      "25724/25724 [==============================] - 3s 124us/sample - loss: 0.4427 - acc: 0.7825\n",
      "Epoch 11/100\n",
      "25724/25724 [==============================] - 3s 124us/sample - loss: 0.4416 - acc: 0.7821\n",
      "Epoch 12/100\n",
      "25724/25724 [==============================] - 3s 126us/sample - loss: 0.4410 - acc: 0.7837\n",
      "Epoch 13/100\n",
      "25724/25724 [==============================] - 3s 121us/sample - loss: 0.4386 - acc: 0.7836\n",
      "Epoch 14/100\n",
      "25724/25724 [==============================] - 3s 121us/sample - loss: 0.4379 - acc: 0.7841\n",
      "Epoch 15/100\n",
      "25724/25724 [==============================] - 3s 123us/sample - loss: 0.4387 - acc: 0.7855\n",
      "Epoch 16/100\n",
      "25724/25724 [==============================] - 3s 127us/sample - loss: 0.4368 - acc: 0.7872\n",
      "Epoch 17/100\n",
      "25724/25724 [==============================] - 4s 136us/sample - loss: 0.4365 - acc: 0.7868\n",
      "Epoch 18/100\n",
      "25724/25724 [==============================] - 3s 127us/sample - loss: 0.4347 - acc: 0.7885\n",
      "Epoch 19/100\n",
      "25724/25724 [==============================] - 3s 127us/sample - loss: 0.4335 - acc: 0.7882\n",
      "Epoch 20/100\n",
      "25724/25724 [==============================] - 3s 127us/sample - loss: 0.4328 - acc: 0.7880\n",
      "Epoch 21/100\n",
      "25724/25724 [==============================] - 3s 123us/sample - loss: 0.4316 - acc: 0.7905\n",
      "Epoch 22/100\n",
      "25724/25724 [==============================] - 3s 122us/sample - loss: 0.4313 - acc: 0.7894\n",
      "Epoch 23/100\n",
      "25724/25724 [==============================] - 3s 122us/sample - loss: 0.4309 - acc: 0.7891\n",
      "Epoch 24/100\n",
      "25724/25724 [==============================] - 3s 121us/sample - loss: 0.4297 - acc: 0.7892\n",
      "Epoch 25/100\n",
      "25724/25724 [==============================] - 3s 122us/sample - loss: 0.4289 - acc: 0.7909\n",
      "Epoch 26/100\n",
      "25724/25724 [==============================] - 3s 123us/sample - loss: 0.4290 - acc: 0.7907\n",
      "Epoch 27/100\n",
      "25724/25724 [==============================] - 3s 121us/sample - loss: 0.4281 - acc: 0.7918\n",
      "Epoch 28/100\n",
      "25724/25724 [==============================] - 3s 122us/sample - loss: 0.4279 - acc: 0.7913\n",
      "Epoch 29/100\n",
      "25724/25724 [==============================] - 3s 123us/sample - loss: 0.4270 - acc: 0.7924\n",
      "Epoch 30/100\n",
      "25724/25724 [==============================] - 3s 121us/sample - loss: 0.4267 - acc: 0.7925\n",
      "Epoch 31/100\n",
      "25724/25724 [==============================] - 3s 122us/sample - loss: 0.4259 - acc: 0.7913\n",
      "Epoch 32/100\n",
      "25724/25724 [==============================] - 3s 121us/sample - loss: 0.4259 - acc: 0.7918\n",
      "Epoch 33/100\n",
      "25724/25724 [==============================] - 3s 121us/sample - loss: 0.4253 - acc: 0.7932\n",
      "Epoch 34/100\n",
      "25724/25724 [==============================] - 3s 124us/sample - loss: 0.4243 - acc: 0.7930\n",
      "Epoch 35/100\n",
      "25724/25724 [==============================] - 3s 123us/sample - loss: 0.4239 - acc: 0.7921\n",
      "Epoch 36/100\n",
      "25724/25724 [==============================] - 3s 121us/sample - loss: 0.4238 - acc: 0.7940\n",
      "Epoch 37/100\n",
      "25724/25724 [==============================] - 3s 121us/sample - loss: 0.4230 - acc: 0.7928\n",
      "Epoch 38/100\n",
      "25724/25724 [==============================] - 3s 121us/sample - loss: 0.4226 - acc: 0.7964\n",
      "Epoch 39/100\n",
      "25724/25724 [==============================] - 3s 122us/sample - loss: 0.4220 - acc: 0.7950\n",
      "Epoch 40/100\n",
      "25724/25724 [==============================] - 3s 121us/sample - loss: 0.4222 - acc: 0.7958\n",
      "Epoch 41/100\n",
      "25724/25724 [==============================] - 3s 121us/sample - loss: 0.4213 - acc: 0.7956\n",
      "Epoch 42/100\n",
      "25724/25724 [==============================] - 3s 122us/sample - loss: 0.4205 - acc: 0.7970\n",
      "Epoch 43/100\n",
      "25724/25724 [==============================] - 3s 121us/sample - loss: 0.4200 - acc: 0.7969\n",
      "Epoch 44/100\n",
      "25724/25724 [==============================] - 3s 122us/sample - loss: 0.4208 - acc: 0.7961\n",
      "Epoch 45/100\n",
      "25724/25724 [==============================] - 3s 124us/sample - loss: 0.4202 - acc: 0.7970\n",
      "Epoch 46/100\n",
      "25724/25724 [==============================] - 3s 122us/sample - loss: 0.4194 - acc: 0.7970\n",
      "Epoch 47/100\n",
      "25724/25724 [==============================] - 3s 124us/sample - loss: 0.4190 - acc: 0.7956\n",
      "Epoch 48/100\n",
      "25724/25724 [==============================] - 3s 122us/sample - loss: 0.4188 - acc: 0.7960\n",
      "Epoch 49/100\n",
      "25724/25724 [==============================] - 3s 123us/sample - loss: 0.4190 - acc: 0.7967\n",
      "Epoch 50/100\n",
      "25724/25724 [==============================] - 3s 125us/sample - loss: 0.4188 - acc: 0.7965\n",
      "Epoch 51/100\n",
      "25724/25724 [==============================] - 3s 129us/sample - loss: 0.4183 - acc: 0.7966\n",
      "Epoch 52/100\n",
      "25724/25724 [==============================] - 3s 135us/sample - loss: 0.4175 - acc: 0.7979\n",
      "Epoch 53/100\n",
      "25724/25724 [==============================] - 3s 135us/sample - loss: 0.4179 - acc: 0.7961\n",
      "Epoch 54/100\n",
      "25724/25724 [==============================] - 3s 126us/sample - loss: 0.4173 - acc: 0.7974\n",
      "Epoch 55/100\n",
      "25724/25724 [==============================] - 3s 125us/sample - loss: 0.4173 - acc: 0.7980\n",
      "Epoch 56/100\n",
      "25724/25724 [==============================] - 3s 123us/sample - loss: 0.4169 - acc: 0.7966\n",
      "Epoch 57/100\n",
      "25724/25724 [==============================] - 3s 121us/sample - loss: 0.4172 - acc: 0.7982\n",
      "Epoch 58/100\n",
      "25724/25724 [==============================] - 3s 122us/sample - loss: 0.4165 - acc: 0.7974\n",
      "Epoch 59/100\n",
      "25724/25724 [==============================] - 3s 121us/sample - loss: 0.4164 - acc: 0.7979\n",
      "Epoch 60/100\n",
      "25724/25724 [==============================] - 3s 123us/sample - loss: 0.4163 - acc: 0.7977\n",
      "Epoch 61/100\n",
      "25724/25724 [==============================] - 3s 125us/sample - loss: 0.4163 - acc: 0.7985\n",
      "Epoch 62/100\n",
      "25724/25724 [==============================] - 3s 123us/sample - loss: 0.4155 - acc: 0.7996\n",
      "Epoch 63/100\n",
      "25724/25724 [==============================] - 3s 124us/sample - loss: 0.4163 - acc: 0.7974\n",
      "Epoch 64/100\n",
      "25724/25724 [==============================] - 3s 125us/sample - loss: 0.4149 - acc: 0.7991\n",
      "Epoch 65/100\n",
      "25724/25724 [==============================] - 3s 128us/sample - loss: 0.4151 - acc: 0.8001\n",
      "Epoch 66/100\n",
      "25724/25724 [==============================] - 3s 125us/sample - loss: 0.4150 - acc: 0.7973\n",
      "Epoch 67/100\n",
      "25724/25724 [==============================] - 3s 123us/sample - loss: 0.4152 - acc: 0.7983\n",
      "Epoch 68/100\n",
      "25724/25724 [==============================] - 3s 124us/sample - loss: 0.4149 - acc: 0.7982\n",
      "Epoch 69/100\n",
      "25724/25724 [==============================] - 3s 122us/sample - loss: 0.4146 - acc: 0.7992\n",
      "Epoch 70/100\n",
      "25724/25724 [==============================] - 3s 125us/sample - loss: 0.4144 - acc: 0.7984\n",
      "Epoch 71/100\n",
      "25724/25724 [==============================] - 3s 123us/sample - loss: 0.4145 - acc: 0.7993\n",
      "Epoch 72/100\n",
      "25724/25724 [==============================] - 3s 125us/sample - loss: 0.4143 - acc: 0.7989\n",
      "Epoch 73/100\n",
      "25724/25724 [==============================] - 3s 126us/sample - loss: 0.4143 - acc: 0.7984\n",
      "Epoch 74/100\n",
      "25724/25724 [==============================] - 3s 123us/sample - loss: 0.4140 - acc: 0.7986\n",
      "Epoch 75/100\n",
      "25724/25724 [==============================] - 3s 124us/sample - loss: 0.4139 - acc: 0.7989\n",
      "Epoch 76/100\n",
      "25724/25724 [==============================] - 3s 124us/sample - loss: 0.4138 - acc: 0.7982\n",
      "Epoch 77/100\n",
      "25724/25724 [==============================] - 3s 123us/sample - loss: 0.4137 - acc: 0.7992\n",
      "Epoch 78/100\n",
      "25724/25724 [==============================] - 3s 126us/sample - loss: 0.4134 - acc: 0.7989\n",
      "Epoch 79/100\n"
     ]
    },
    {
     "name": "stdout",
     "output_type": "stream",
     "text": [
      "25724/25724 [==============================] - 3s 120us/sample - loss: 0.4132 - acc: 0.7989\n",
      "Epoch 80/100\n",
      "25724/25724 [==============================] - 3s 119us/sample - loss: 0.4132 - acc: 0.7998\n",
      "Epoch 81/100\n",
      "25724/25724 [==============================] - 3s 119us/sample - loss: 0.4135 - acc: 0.7982\n",
      "Epoch 82/100\n",
      "25724/25724 [==============================] - 3s 121us/sample - loss: 0.4133 - acc: 0.7986\n",
      "Epoch 83/100\n",
      "25724/25724 [==============================] - 3s 120us/sample - loss: 0.4129 - acc: 0.8001\n",
      "Epoch 84/100\n",
      "25724/25724 [==============================] - 3s 119us/sample - loss: 0.4129 - acc: 0.8001\n",
      "Epoch 85/100\n",
      "25724/25724 [==============================] - 3s 120us/sample - loss: 0.4131 - acc: 0.7990\n",
      "Epoch 86/100\n",
      "25724/25724 [==============================] - 3s 123us/sample - loss: 0.4127 - acc: 0.7999\n",
      "Epoch 87/100\n",
      "25724/25724 [==============================] - 3s 119us/sample - loss: 0.4127 - acc: 0.7987\n",
      "Epoch 88/100\n",
      "25724/25724 [==============================] - 3s 121us/sample - loss: 0.4128 - acc: 0.7995\n",
      "Epoch 89/100\n",
      "25724/25724 [==============================] - 3s 120us/sample - loss: 0.4127 - acc: 0.7995\n",
      "Epoch 90/100\n",
      "25724/25724 [==============================] - 3s 120us/sample - loss: 0.4126 - acc: 0.7994\n",
      "Epoch 91/100\n",
      "25724/25724 [==============================] - 3s 125us/sample - loss: 0.4120 - acc: 0.8007\n",
      "Epoch 92/100\n",
      "25724/25724 [==============================] - 3s 127us/sample - loss: 0.4123 - acc: 0.7993\n",
      "Epoch 93/100\n",
      "25724/25724 [==============================] - 3s 121us/sample - loss: 0.4123 - acc: 0.8001\n",
      "Epoch 94/100\n",
      "25724/25724 [==============================] - 3s 122us/sample - loss: 0.4118 - acc: 0.8001\n",
      "Epoch 95/100\n",
      "25724/25724 [==============================] - 3s 123us/sample - loss: 0.4121 - acc: 0.7992\n",
      "Epoch 96/100\n",
      "25724/25724 [==============================] - 3s 121us/sample - loss: 0.4120 - acc: 0.7996\n",
      "Epoch 97/100\n",
      "25724/25724 [==============================] - 3s 121us/sample - loss: 0.4122 - acc: 0.7996\n",
      "Epoch 98/100\n",
      "25724/25724 [==============================] - 3s 123us/sample - loss: 0.4113 - acc: 0.7994\n",
      "Epoch 99/100\n",
      "25724/25724 [==============================] - 3s 121us/sample - loss: 0.4118 - acc: 0.8001\n",
      "Epoch 100/100\n",
      "25724/25724 [==============================] - 3s 121us/sample - loss: 0.4118 - acc: 0.7993\n"
     ]
    }
   ],
   "source": [
    "# train the model for 100 epochs\n",
    "fit_model = nn.fit(X_train_scaled,y_train,epochs=100)"
   ]
  },
  {
   "cell_type": "code",
   "execution_count": 25,
   "metadata": {},
   "outputs": [
    {
     "name": "stdout",
     "output_type": "stream",
     "text": [
      "8575/8575 - 1s - loss: 0.4669 - acc: 0.7812\n",
      "Loss: 0.4669290506874507, Accuracy: 0.7812244892120361\n"
     ]
    }
   ],
   "source": [
    "model_loss, model_accuracy = nn.evaluate(X_test_scaled,y_test,verbose=2)\n",
    "print(f\"Loss: {model_loss}, Accuracy: {model_accuracy}\")"
   ]
  },
  {
   "cell_type": "markdown",
   "metadata": {},
   "source": [
    "## Deep Learning"
   ]
  },
  {
   "cell_type": "code",
   "execution_count": 26,
   "metadata": {},
   "outputs": [
    {
     "name": "stdout",
     "output_type": "stream",
     "text": [
      "Model: \"sequential_1\"\n",
      "_________________________________________________________________\n",
      "Layer (type)                 Output Shape              Param #   \n",
      "=================================================================\n",
      "dense_2 (Dense)              (None, 30)                9990      \n",
      "_________________________________________________________________\n",
      "dense_3 (Dense)              (None, 10)                310       \n",
      "_________________________________________________________________\n",
      "dense_4 (Dense)              (None, 1)                 11        \n",
      "=================================================================\n",
      "Total params: 10,311\n",
      "Trainable params: 10,311\n",
      "Non-trainable params: 0\n",
      "_________________________________________________________________\n"
     ]
    }
   ],
   "source": [
    "# create a deep learning model with two hidden layers\n",
    "new_nn = tf.keras.models.Sequential()\n",
    "number_input_features = len(X_train_scaled[0])\n",
    "new_hidden_nodes_layer1 = 30\n",
    "new_hidden_nodes_layer2 = 10\n",
    "\n",
    "# add hidden layers\n",
    "new_nn.add(tf.keras.layers.Dense(units=new_hidden_nodes_layer1, input_dim=number_input_features, activation=\"sigmoid\"))\n",
    "new_nn.add(tf.keras.layers.Dense(units=new_hidden_nodes_layer2, activation=\"sigmoid\"))\n",
    "\n",
    "# add an output layer\n",
    "new_nn.add(tf.keras.layers.Dense(units=1, activation=\"sigmoid\"))\n",
    "\n",
    "# print a summary of the model\n",
    "new_nn.summary()"
   ]
  },
  {
   "cell_type": "code",
   "execution_count": 27,
   "metadata": {},
   "outputs": [],
   "source": [
    "# compile the model\n",
    "new_nn.compile(loss=\"binary_crossentropy\", optimizer=\"adam\", metrics=[\"accuracy\"])"
   ]
  },
  {
   "cell_type": "code",
   "execution_count": 28,
   "metadata": {},
   "outputs": [
    {
     "name": "stdout",
     "output_type": "stream",
     "text": [
      "Epoch 1/100\n",
      "25724/25724 [==============================] - 3s 108us/sample - loss: 0.5295 - acc: 0.7582\n",
      "Epoch 2/100\n",
      "25724/25724 [==============================] - 2s 95us/sample - loss: 0.4560 - acc: 0.7834\n",
      "Epoch 3/100\n",
      "25724/25724 [==============================] - 3s 98us/sample - loss: 0.4490 - acc: 0.7834\n",
      "Epoch 4/100\n",
      "25724/25724 [==============================] - 2s 97us/sample - loss: 0.4458 - acc: 0.7817\n",
      "Epoch 5/100\n",
      "25724/25724 [==============================] - 2s 94us/sample - loss: 0.4436 - acc: 0.7841\n",
      "Epoch 6/100\n",
      "25724/25724 [==============================] - 2s 94us/sample - loss: 0.4417 - acc: 0.7845\n",
      "Epoch 7/100\n",
      "25724/25724 [==============================] - 2s 95us/sample - loss: 0.4411 - acc: 0.7837\n",
      "Epoch 8/100\n",
      "25724/25724 [==============================] - 2s 97us/sample - loss: 0.4398 - acc: 0.7840\n",
      "Epoch 9/100\n",
      "25724/25724 [==============================] - 2s 97us/sample - loss: 0.4389 - acc: 0.7870\n",
      "Epoch 10/100\n",
      "25724/25724 [==============================] - 2s 95us/sample - loss: 0.4376 - acc: 0.7869\n",
      "Epoch 11/100\n",
      "25724/25724 [==============================] - 2s 96us/sample - loss: 0.4369 - acc: 0.7864\n",
      "Epoch 12/100\n",
      "25724/25724 [==============================] - 2s 95us/sample - loss: 0.4356 - acc: 0.7863\n",
      "Epoch 13/100\n",
      "25724/25724 [==============================] - 2s 97us/sample - loss: 0.4350 - acc: 0.7872\n",
      "Epoch 14/100\n",
      "25724/25724 [==============================] - 2s 94us/sample - loss: 0.4344 - acc: 0.7871\n",
      "Epoch 15/100\n",
      "25724/25724 [==============================] - 2s 96us/sample - loss: 0.4332 - acc: 0.7888\n",
      "Epoch 16/100\n",
      "25724/25724 [==============================] - 2s 97us/sample - loss: 0.4325 - acc: 0.7888\n",
      "Epoch 17/100\n",
      "25724/25724 [==============================] - 3s 97us/sample - loss: 0.4320 - acc: 0.7878\n",
      "Epoch 18/100\n",
      "25724/25724 [==============================] - 3s 99us/sample - loss: 0.4310 - acc: 0.7891\n",
      "Epoch 19/100\n",
      "25724/25724 [==============================] - 3s 97us/sample - loss: 0.4310 - acc: 0.7891\n",
      "Epoch 20/100\n",
      "25724/25724 [==============================] - 2s 96us/sample - loss: 0.4304 - acc: 0.7899\n",
      "Epoch 21/100\n",
      "25724/25724 [==============================] - 2s 97us/sample - loss: 0.4296 - acc: 0.7907\n",
      "Epoch 22/100\n",
      "25724/25724 [==============================] - 2s 94us/sample - loss: 0.4290 - acc: 0.7909\n",
      "Epoch 23/100\n",
      "25724/25724 [==============================] - 2s 96us/sample - loss: 0.4283 - acc: 0.7915\n",
      "Epoch 24/100\n",
      "25724/25724 [==============================] - 2s 97us/sample - loss: 0.4279 - acc: 0.7917\n",
      "Epoch 25/100\n",
      "25724/25724 [==============================] - 2s 94us/sample - loss: 0.4272 - acc: 0.7920\n",
      "Epoch 26/100\n",
      "25724/25724 [==============================] - 2s 95us/sample - loss: 0.4265 - acc: 0.7926\n",
      "Epoch 27/100\n",
      "25724/25724 [==============================] - 2s 96us/sample - loss: 0.4265 - acc: 0.7928\n",
      "Epoch 28/100\n",
      "25724/25724 [==============================] - 2s 96us/sample - loss: 0.4263 - acc: 0.7925\n",
      "Epoch 29/100\n",
      "25724/25724 [==============================] - 2s 94us/sample - loss: 0.4253 - acc: 0.7935\n",
      "Epoch 30/100\n",
      "25724/25724 [==============================] - 2s 95us/sample - loss: 0.4253 - acc: 0.7926\n",
      "Epoch 31/100\n",
      "25724/25724 [==============================] - 2s 96us/sample - loss: 0.4245 - acc: 0.7931\n",
      "Epoch 32/100\n",
      "25724/25724 [==============================] - 2s 96us/sample - loss: 0.4243 - acc: 0.7938\n",
      "Epoch 33/100\n",
      "25724/25724 [==============================] - 2s 94us/sample - loss: 0.4238 - acc: 0.7944\n",
      "Epoch 34/100\n",
      "25724/25724 [==============================] - 2s 95us/sample - loss: 0.4234 - acc: 0.7941\n",
      "Epoch 35/100\n",
      "25724/25724 [==============================] - 2s 94us/sample - loss: 0.4230 - acc: 0.7951\n",
      "Epoch 36/100\n",
      "25724/25724 [==============================] - 2s 96us/sample - loss: 0.4226 - acc: 0.7950\n",
      "Epoch 37/100\n",
      "25724/25724 [==============================] - 2s 95us/sample - loss: 0.4226 - acc: 0.7944\n",
      "Epoch 38/100\n",
      "25724/25724 [==============================] - 2s 95us/sample - loss: 0.4220 - acc: 0.7955\n",
      "Epoch 39/100\n",
      "25724/25724 [==============================] - 2s 95us/sample - loss: 0.4219 - acc: 0.7951\n",
      "Epoch 40/100\n",
      "25724/25724 [==============================] - 3s 98us/sample - loss: 0.4215 - acc: 0.7948\n",
      "Epoch 41/100\n",
      "25724/25724 [==============================] - 3s 98us/sample - loss: 0.4212 - acc: 0.7953\n",
      "Epoch 42/100\n",
      "25724/25724 [==============================] - 2s 93us/sample - loss: 0.4206 - acc: 0.7954\n",
      "Epoch 43/100\n",
      "25724/25724 [==============================] - 2s 96us/sample - loss: 0.4202 - acc: 0.7966\n",
      "Epoch 44/100\n",
      "25724/25724 [==============================] - 3s 97us/sample - loss: 0.4200 - acc: 0.7963\n",
      "Epoch 45/100\n",
      "25724/25724 [==============================] - 2s 96us/sample - loss: 0.4199 - acc: 0.7963\n",
      "Epoch 46/100\n",
      "25724/25724 [==============================] - 2s 94us/sample - loss: 0.4196 - acc: 0.7967\n",
      "Epoch 47/100\n",
      "25724/25724 [==============================] - 2s 96us/sample - loss: 0.4195 - acc: 0.7962\n",
      "Epoch 48/100\n",
      "25724/25724 [==============================] - 2s 95us/sample - loss: 0.4193 - acc: 0.7971\n",
      "Epoch 49/100\n",
      "25724/25724 [==============================] - 2s 95us/sample - loss: 0.4186 - acc: 0.7959\n",
      "Epoch 50/100\n",
      "25724/25724 [==============================] - 2s 96us/sample - loss: 0.4187 - acc: 0.7971\n",
      "Epoch 51/100\n",
      "25724/25724 [==============================] - 2s 96us/sample - loss: 0.4185 - acc: 0.7976\n",
      "Epoch 52/100\n",
      "25724/25724 [==============================] - 2s 95us/sample - loss: 0.4183 - acc: 0.7976\n",
      "Epoch 53/100\n",
      "25724/25724 [==============================] - 2s 95us/sample - loss: 0.4183 - acc: 0.7966\n",
      "Epoch 54/100\n",
      "25724/25724 [==============================] - 2s 94us/sample - loss: 0.4180 - acc: 0.7975\n",
      "Epoch 55/100\n",
      "25724/25724 [==============================] - 2s 95us/sample - loss: 0.4176 - acc: 0.7978\n",
      "Epoch 56/100\n",
      "25724/25724 [==============================] - 2s 95us/sample - loss: 0.4175 - acc: 0.7976\n",
      "Epoch 57/100\n",
      "25724/25724 [==============================] - 2s 92us/sample - loss: 0.4175 - acc: 0.7979\n",
      "Epoch 58/100\n",
      "25724/25724 [==============================] - 2s 93us/sample - loss: 0.4171 - acc: 0.7974\n",
      "Epoch 59/100\n",
      "25724/25724 [==============================] - 2s 94us/sample - loss: 0.4168 - acc: 0.7981\n",
      "Epoch 60/100\n",
      "25724/25724 [==============================] - 2s 94us/sample - loss: 0.4170 - acc: 0.7971\n",
      "Epoch 61/100\n",
      "25724/25724 [==============================] - 2s 94us/sample - loss: 0.4164 - acc: 0.7973\n",
      "Epoch 62/100\n",
      "25724/25724 [==============================] - 2s 94us/sample - loss: 0.4164 - acc: 0.7981\n",
      "Epoch 63/100\n",
      "25724/25724 [==============================] - 2s 94us/sample - loss: 0.4163 - acc: 0.7986\n",
      "Epoch 64/100\n",
      "25724/25724 [==============================] - 2s 96us/sample - loss: 0.4159 - acc: 0.7984\n",
      "Epoch 65/100\n",
      "25724/25724 [==============================] - 2s 96us/sample - loss: 0.4159 - acc: 0.7987\n",
      "Epoch 66/100\n",
      "25724/25724 [==============================] - 2s 95us/sample - loss: 0.4158 - acc: 0.7974\n",
      "Epoch 67/100\n",
      "25724/25724 [==============================] - 2s 94us/sample - loss: 0.4155 - acc: 0.7986\n",
      "Epoch 68/100\n",
      "25724/25724 [==============================] - 2s 96us/sample - loss: 0.4155 - acc: 0.7980\n",
      "Epoch 69/100\n",
      "25724/25724 [==============================] - 2s 94us/sample - loss: 0.4154 - acc: 0.7987\n",
      "Epoch 70/100\n",
      "25724/25724 [==============================] - 2s 94us/sample - loss: 0.4151 - acc: 0.7987\n",
      "Epoch 71/100\n",
      "25724/25724 [==============================] - 2s 96us/sample - loss: 0.4149 - acc: 0.7993\n",
      "Epoch 72/100\n",
      "25724/25724 [==============================] - 2s 96us/sample - loss: 0.4152 - acc: 0.7993\n",
      "Epoch 73/100\n",
      "25724/25724 [==============================] - 2s 93us/sample - loss: 0.4149 - acc: 0.7986\n",
      "Epoch 74/100\n",
      "25724/25724 [==============================] - 2s 94us/sample - loss: 0.4149 - acc: 0.7987\n",
      "Epoch 75/100\n",
      "25724/25724 [==============================] - 2s 96us/sample - loss: 0.4146 - acc: 0.7989\n",
      "Epoch 76/100\n",
      "25724/25724 [==============================] - 2s 93us/sample - loss: 0.4143 - acc: 0.7988\n",
      "Epoch 77/100\n",
      "25724/25724 [==============================] - 2s 94us/sample - loss: 0.4147 - acc: 0.7991\n",
      "Epoch 78/100\n",
      "25724/25724 [==============================] - 2s 94us/sample - loss: 0.4142 - acc: 0.7991\n",
      "Epoch 79/100\n"
     ]
    },
    {
     "name": "stdout",
     "output_type": "stream",
     "text": [
      "25724/25724 [==============================] - 2s 95us/sample - loss: 0.4142 - acc: 0.7994\n",
      "Epoch 80/100\n",
      "25724/25724 [==============================] - 2s 96us/sample - loss: 0.4141 - acc: 0.7996\n",
      "Epoch 81/100\n",
      "25724/25724 [==============================] - 2s 95us/sample - loss: 0.4136 - acc: 0.7989\n",
      "Epoch 82/100\n",
      "25724/25724 [==============================] - 2s 97us/sample - loss: 0.4137 - acc: 0.8002\n",
      "Epoch 83/100\n",
      "25724/25724 [==============================] - 3s 97us/sample - loss: 0.4136 - acc: 0.7995\n",
      "Epoch 84/100\n",
      "25724/25724 [==============================] - 2s 96us/sample - loss: 0.4135 - acc: 0.7995\n",
      "Epoch 85/100\n",
      "25724/25724 [==============================] - 2s 97us/sample - loss: 0.4136 - acc: 0.8006\n",
      "Epoch 86/100\n",
      "25724/25724 [==============================] - 2s 96us/sample - loss: 0.4134 - acc: 0.7999\n",
      "Epoch 87/100\n",
      "25724/25724 [==============================] - 2s 97us/sample - loss: 0.4134 - acc: 0.7994\n",
      "Epoch 88/100\n",
      "25724/25724 [==============================] - 3s 100us/sample - loss: 0.4134 - acc: 0.7988\n",
      "Epoch 89/100\n",
      "25724/25724 [==============================] - 2s 96us/sample - loss: 0.4132 - acc: 0.7994\n",
      "Epoch 90/100\n",
      "25724/25724 [==============================] - 2s 97us/sample - loss: 0.4130 - acc: 0.7994\n",
      "Epoch 91/100\n",
      "25724/25724 [==============================] - 2s 96us/sample - loss: 0.4131 - acc: 0.7998\n",
      "Epoch 92/100\n",
      "25724/25724 [==============================] - 2s 96us/sample - loss: 0.4131 - acc: 0.7992\n",
      "Epoch 93/100\n",
      "25724/25724 [==============================] - 3s 98us/sample - loss: 0.4127 - acc: 0.8001\n",
      "Epoch 94/100\n",
      "25724/25724 [==============================] - 2s 96us/sample - loss: 0.4129 - acc: 0.8005\n",
      "Epoch 95/100\n",
      "25724/25724 [==============================] - 3s 98us/sample - loss: 0.4129 - acc: 0.7998\n",
      "Epoch 96/100\n",
      "25724/25724 [==============================] - 2s 97us/sample - loss: 0.4125 - acc: 0.8010\n",
      "Epoch 97/100\n",
      "25724/25724 [==============================] - 2s 97us/sample - loss: 0.4125 - acc: 0.7999\n",
      "Epoch 98/100\n",
      "25724/25724 [==============================] - 3s 98us/sample - loss: 0.4124 - acc: 0.7999\n",
      "Epoch 99/100\n",
      "25724/25724 [==============================] - 2s 95us/sample - loss: 0.4122 - acc: 0.7998\n",
      "Epoch 100/100\n",
      "25724/25724 [==============================] - 2s 97us/sample - loss: 0.4123 - acc: 0.8005\n"
     ]
    }
   ],
   "source": [
    "# train the model for 100 epochs\n",
    "fit_model = new_nn.fit(X_train_scaled,y_train,epochs=100)"
   ]
  },
  {
   "cell_type": "code",
   "execution_count": 29,
   "metadata": {},
   "outputs": [
    {
     "name": "stdout",
     "output_type": "stream",
     "text": [
      "8575/8575 - 0s - loss: 0.7969 - acc: 0.4668\n",
      "Loss: 0.7968721917627851, Accuracy: 0.46682214736938477\n"
     ]
    }
   ],
   "source": [
    "# Evaluate the model using the test data\n",
    "model_loss, model_accuracy = new_nn.evaluate(X_test,y_test,verbose=2)\n",
    "print(f\"Loss: {model_loss}, Accuracy: {model_accuracy}\")"
   ]
  }
 ],
 "metadata": {
  "kernelspec": {
   "display_name": "mlenv",
   "language": "python",
   "name": "mlenv"
  },
  "language_info": {
   "codemirror_mode": {
    "name": "ipython",
    "version": 3
   },
   "file_extension": ".py",
   "mimetype": "text/x-python",
   "name": "python",
   "nbconvert_exporter": "python",
   "pygments_lexer": "ipython3",
   "version": "3.7.7"
  }
 },
 "nbformat": 4,
 "nbformat_minor": 4
}
